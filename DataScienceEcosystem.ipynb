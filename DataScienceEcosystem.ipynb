{
 "cells": [
  {
   "cell_type": "markdown",
   "id": "91897fdc-36c9-4d72-a49e-efa777482985",
   "metadata": {},
   "source": [
    "# Data Science Tools and Ecosystems"
   ]
  },
  {
   "cell_type": "markdown",
   "id": "512baa51-d4a1-47cd-ae02-92ace051e3ad",
   "metadata": {},
   "source": [
    "# In this notebook, Data Science Tools and Ecosystem are summarized."
   ]
  },
  {
   "cell_type": "markdown",
   "id": "a98774c7-2fde-48ee-8d48-d327ba43ef0a",
   "metadata": {},
   "source": [
    "__Objectives:__\n",
    "- Popular languages in Data Science\n",
    "- Popular libraries in Data Science\n",
    "- Creating markdown cells\n",
    "- Writing to code and executing them\n",
    "- Creating Jupyter Notebook\n",
    "## Author\n",
    "Adnan Islam"
   ]
  },
  {
   "cell_type": "markdown",
   "id": "c778b666-ddca-4690-87dc-fbcc4d1b654c",
   "metadata": {},
   "source": [
    "# Some of the popular languages that Data Scientists use are:\n",
    "1.Python\n",
    "2.R\n",
    "3.SQL\n",
    "4.Java\n",
    "5.C++"
   ]
  },
  {
   "cell_type": "markdown",
   "id": "5eb30837-4091-498c-87ff-06c82bace3cc",
   "metadata": {},
   "source": [
    "# Some of the commonly used libraries used by Data Scientists include:\n",
    "1.NumPy\n",
    "2.SciPy\n",
    "3.Pandas\n",
    "4.PyTorch\n",
    "5.TensorFlow"
   ]
  },
  {
   "cell_type": "markdown",
   "id": "b14ba666-2180-4b15-8e4d-63687671d122",
   "metadata": {},
   "source": [
    "# Data Science Tools\n",
    "|Data Science Tools|\n",
    "|RStudio|\n",
    "|Apache Spark|\n",
    "|Apache Hadoop|"
   ]
  },
  {
   "cell_type": "markdown",
   "id": "761274d7-2330-4945-916c-eda0c2af583a",
   "metadata": {},
   "source": [
    "### Below are a few examples of evaluating arithmetic expressions in Python"
   ]
  },
  {
   "cell_type": "code",
   "execution_count": 1,
   "id": "702954a6-b7e2-4491-b44f-abd0e69c969d",
   "metadata": {
    "tags": []
   },
   "outputs": [
    {
     "data": {
      "text/plain": [
       "17"
      ]
     },
     "execution_count": 1,
     "metadata": {},
     "output_type": "execute_result"
    }
   ],
   "source": [
    "# This is a simple arithmetic expression to multiply then add intergers\n",
    "(3*4)+5"
   ]
  },
  {
   "cell_type": "code",
   "execution_count": 2,
   "id": "906a8fe7-3200-465a-a6d3-a23f9087f832",
   "metadata": {
    "tags": []
   },
   "outputs": [
    {
     "data": {
      "text/plain": [
       "3.3333333333333335"
      ]
     },
     "execution_count": 2,
     "metadata": {},
     "output_type": "execute_result"
    }
   ],
   "source": [
    "# This will convert 200 minutes to hours by dividing by 60\n",
    "200/60"
   ]
  },
  {
   "cell_type": "code",
   "execution_count": null,
   "id": "2ee293d1-47d3-449b-a06a-4aa1f7b8ff4a",
   "metadata": {},
   "outputs": [],
   "source": []
  }
 ],
 "metadata": {
  "kernelspec": {
   "display_name": "Python",
   "language": "python",
   "name": "conda-env-python-py"
  },
  "language_info": {
   "codemirror_mode": {
    "name": "ipython",
    "version": 3
   },
   "file_extension": ".py",
   "mimetype": "text/x-python",
   "name": "python",
   "nbconvert_exporter": "python",
   "pygments_lexer": "ipython3",
   "version": "3.7.12"
  }
 },
 "nbformat": 4,
 "nbformat_minor": 5
}
